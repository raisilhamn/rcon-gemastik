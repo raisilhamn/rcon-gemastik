{
 "cells": [
  {
   "cell_type": "code",
   "execution_count": null,
   "metadata": {},
   "outputs": [],
   "source": [
    "import petl as etl\n",
    "import pandas as pd\n",
    "import cdata.googlebigquery as mod\n",
    " "
   ]
  },
  {
   "cell_type": "code",
   "execution_count": null,
   "metadata": {},
   "outputs": [],
   "source": [
    "cnxn = mod.connect(\"DataSetId=patent_data;ProjectId=intricate-dryad-386409;InitiateOAuth=GETANDREFRESH;OAuthSettingsLocation=/PATH/TO/OAuthSettings.txt\")\")\n",
    " \n",
    "sql = \"SELECT title_localized, abstract_localized FROM `patents-public-data.patents.publications` e CROSS JOIN UNNEST(e.title_localized) ep WHERE ep.text LIKE '%artificial intelligence%'\"\n",
    " \n",
    "table1 = etl.fromdb(cnxn,sql)\n",
    " \n",
    "table2 = etl.sort(table1,'Freight')\n",
    " \n",
    "etl.tocsv(table2,'orders_data.csv')\n",
    " \n",
    "table3 = [ ['OrderName','Freight'], ['NewOrderName1','NewFreight1'], ['NewOrderName2','NewFreight2'], ['NewOrderName3','NewFreight3'] ]\n",
    " \n",
    "etl.appenddb(table3, cnxn, 'Orders')"
   ]
  }
 ],
 "metadata": {
  "language_info": {
   "name": "python"
  },
  "orig_nbformat": 4
 },
 "nbformat": 4,
 "nbformat_minor": 2
}
