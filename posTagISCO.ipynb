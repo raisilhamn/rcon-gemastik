{
 "cells": [
  {
   "attachments": {},
   "cell_type": "markdown",
   "metadata": {},
   "source": [
    "Import Libraries"
   ]
  },
  {
   "cell_type": "code",
   "execution_count": 1,
   "metadata": {},
   "outputs": [
    {
     "name": "stderr",
     "output_type": "stream",
     "text": [
      "[nltk_data] Downloading package averaged_perceptron_tagger to\n",
      "[nltk_data]     C:\\Users\\hp\\AppData\\Roaming\\nltk_data...\n",
      "[nltk_data]   Package averaged_perceptron_tagger is already up-to-\n",
      "[nltk_data]       date!\n",
      "[nltk_data] Downloading package punkt to\n",
      "[nltk_data]     C:\\Users\\hp\\AppData\\Roaming\\nltk_data...\n",
      "[nltk_data]   Package punkt is already up-to-date!\n",
      "[nltk_data] Downloading package stopwords to\n",
      "[nltk_data]     C:\\Users\\hp\\AppData\\Roaming\\nltk_data...\n",
      "[nltk_data]   Package stopwords is already up-to-date!\n",
      "[nltk_data] Downloading package wordnet to\n",
      "[nltk_data]     C:\\Users\\hp\\AppData\\Roaming\\nltk_data...\n",
      "[nltk_data]   Package wordnet is already up-to-date!\n"
     ]
    },
    {
     "data": {
      "text/plain": [
       "'!\"#$%&\\'()*+,-./:;<=>?@[\\\\]^_`{|}~'"
      ]
     },
     "execution_count": 1,
     "metadata": {},
     "output_type": "execute_result"
    }
   ],
   "source": [
    "import nltk\n",
    "from nltk.stem import WordNetLemmatizer\n",
    "nltk.download('averaged_perceptron_tagger')\n",
    "nltk.download('punkt')\n",
    "nltk.download('stopwords')\n",
    "nltk.download('wordnet')\n",
    "import pandas as pd\n",
    "import string\n",
    "string.punctuation"
   ]
  },
  {
   "attachments": {},
   "cell_type": "markdown",
   "metadata": {},
   "source": [
    "Preprocessing"
   ]
  },
  {
   "cell_type": "code",
   "execution_count": 2,
   "metadata": {},
   "outputs": [
    {
     "data": {
      "text/html": [
       "<div>\n",
       "<style scoped>\n",
       "    .dataframe tbody tr th:only-of-type {\n",
       "        vertical-align: middle;\n",
       "    }\n",
       "\n",
       "    .dataframe tbody tr th {\n",
       "        vertical-align: top;\n",
       "    }\n",
       "\n",
       "    .dataframe thead th {\n",
       "        text-align: right;\n",
       "    }\n",
       "</style>\n",
       "<table border=\"1\" class=\"dataframe\">\n",
       "  <thead>\n",
       "    <tr style=\"text-align: right;\">\n",
       "      <th></th>\n",
       "      <th>Title EN</th>\n",
       "      <th>Tasks include</th>\n",
       "    </tr>\n",
       "  </thead>\n",
       "  <tbody>\n",
       "    <tr>\n",
       "      <th>3</th>\n",
       "      <td>Legislators</td>\n",
       "      <td>Tasks include -\\n(a)  presiding over or partic...</td>\n",
       "    </tr>\n",
       "    <tr>\n",
       "      <th>4</th>\n",
       "      <td>Senior Government Officials</td>\n",
       "      <td>Tasks include -\\n(a)  advising national, state...</td>\n",
       "    </tr>\n",
       "    <tr>\n",
       "      <th>5</th>\n",
       "      <td>Traditional Chiefs and Heads of Villages</td>\n",
       "      <td>Tasks include -\\n(a)  allocating the use of co...</td>\n",
       "    </tr>\n",
       "    <tr>\n",
       "      <th>6</th>\n",
       "      <td>Senior Officials of Special-interest Organizat...</td>\n",
       "      <td>Tasks include -\\n(a)  determining and formulat...</td>\n",
       "    </tr>\n",
       "    <tr>\n",
       "      <th>8</th>\n",
       "      <td>Managing Directors and Chief Executives</td>\n",
       "      <td>Tasks include -\\n(a)  planning, directing and ...</td>\n",
       "    </tr>\n",
       "  </tbody>\n",
       "</table>\n",
       "</div>"
      ],
      "text/plain": [
       "                                            Title EN  \\\n",
       "3                                        Legislators   \n",
       "4                        Senior Government Officials   \n",
       "5           Traditional Chiefs and Heads of Villages   \n",
       "6  Senior Officials of Special-interest Organizat...   \n",
       "8            Managing Directors and Chief Executives   \n",
       "\n",
       "                                       Tasks include  \n",
       "3  Tasks include -\\n(a)  presiding over or partic...  \n",
       "4  Tasks include -\\n(a)  advising national, state...  \n",
       "5  Tasks include -\\n(a)  allocating the use of co...  \n",
       "6  Tasks include -\\n(a)  determining and formulat...  \n",
       "8  Tasks include -\\n(a)  planning, directing and ...  "
      ]
     },
     "execution_count": 2,
     "metadata": {},
     "output_type": "execute_result"
    }
   ],
   "source": [
    "# read data\n",
    "\n",
    "data = pd.read_excel('isco.xlsx')\n",
    "data = data[data[\"ISCO 08 Code\"].apply(lambda x: len(str(x)) > 3)]\n",
    "data = data[[\"Title EN\", \"Tasks include\"]]\n",
    "data.head()"
   ]
  },
  {
   "cell_type": "code",
   "execution_count": 3,
   "metadata": {},
   "outputs": [
    {
     "data": {
      "text/plain": [
       "3    Tasks include \\na  presiding over or participa...\n",
       "4    Tasks include \\na  advising national state reg...\n",
       "5    Tasks include \\na  allocating the use of commu...\n",
       "6    Tasks include \\na  determining and formulating...\n",
       "8    Tasks include \\na  planning directing and coor...\n",
       "Name: clean_msg, dtype: object"
      ]
     },
     "execution_count": 3,
     "metadata": {},
     "output_type": "execute_result"
    }
   ],
   "source": [
    "# remove punctuation\n",
    "\n",
    "def remove_punctuation(text):\n",
    "    punctuationfree=\"\".join([i for i in text if i not in string.punctuation])\n",
    "    return punctuationfree\n",
    "\n",
    "data['clean_msg'] = data['Tasks include'].apply(lambda x:remove_punctuation(str(x)))\n",
    "data['clean_msg'].head()"
   ]
  },
  {
   "cell_type": "code",
   "execution_count": 4,
   "metadata": {},
   "outputs": [
    {
     "data": {
      "text/plain": [
       "3    tasks include \\na  presiding over or participa...\n",
       "4    tasks include \\na  advising national state reg...\n",
       "5    tasks include \\na  allocating the use of commu...\n",
       "6    tasks include \\na  determining and formulating...\n",
       "8    tasks include \\na  planning directing and coor...\n",
       "Name: msg_lower, dtype: object"
      ]
     },
     "execution_count": 4,
     "metadata": {},
     "output_type": "execute_result"
    }
   ],
   "source": [
    "# lowering text\n",
    "\n",
    "data['msg_lower']= data['clean_msg'].apply(lambda x: x.lower())\n",
    "data['msg_lower'].head()"
   ]
  },
  {
   "cell_type": "code",
   "execution_count": 5,
   "metadata": {},
   "outputs": [
    {
     "data": {
      "text/plain": [
       "<bound method NDFrame.head of 3      [tasks, include, a, presiding, over, or, parti...\n",
       "4      [tasks, include, a, advising, national, state,...\n",
       "5      [tasks, include, a, allocating, the, use, of, ...\n",
       "6      [tasks, include, a, determining, and, formulat...\n",
       "8      [tasks, include, a, planning, directing, and, ...\n",
       "                             ...                        \n",
       "604    [tasks, include, a, delivering, messages, pack...\n",
       "605    [tasks, include, a, repairing, broken, windows...\n",
       "606    [tasks, include, a, filling, storage, areas, o...\n",
       "607    [tasks, include, a, cutting, and, collecting, ...\n",
       "608    [in, such, cases, tasks, would, include, a, se...\n",
       "Name: msg_tokenized, Length: 433, dtype: object>"
      ]
     },
     "execution_count": 5,
     "metadata": {},
     "output_type": "execute_result"
    }
   ],
   "source": [
    "# tokenization\n",
    "\n",
    "data['msg_tokenized'] = data['msg_lower'].apply(nltk.word_tokenize)\n",
    "data['msg_tokenized'].head"
   ]
  },
  {
   "cell_type": "code",
   "execution_count": 6,
   "metadata": {},
   "outputs": [
    {
     "data": {
      "text/plain": [
       "<bound method NDFrame.head of 3      [tasks, include, presiding, participating, pro...\n",
       "4      [tasks, include, advising, national, state, re...\n",
       "5      [tasks, include, allocating, use, communal, la...\n",
       "6      [tasks, include, determining, formulating, pol...\n",
       "8      [tasks, include, planning, directing, coordina...\n",
       "                             ...                        \n",
       "604    [tasks, include, delivering, messages, package...\n",
       "605    [tasks, include, repairing, broken, windows, s...\n",
       "606    [tasks, include, filling, storage, areas, vend...\n",
       "607    [tasks, include, cutting, collecting, wood, fo...\n",
       "608    [cases, tasks, would, include, selling, admiss...\n",
       "Name: no_stopwords, Length: 433, dtype: object>"
      ]
     },
     "execution_count": 6,
     "metadata": {},
     "output_type": "execute_result"
    }
   ],
   "source": [
    "# remove stopwords\n",
    "\n",
    "stopwords = nltk.corpus.stopwords.words('english')\n",
    "\n",
    "def remove_stopwords(text):\n",
    "    output= [i for i in text if i not in stopwords]\n",
    "    return output\n",
    "\n",
    "data['no_stopwords']= data['msg_tokenized'].apply(lambda x:remove_stopwords(x))\n",
    "data['no_stopwords'].head"
   ]
  },
  {
   "attachments": {},
   "cell_type": "markdown",
   "metadata": {},
   "source": [
    "POS Tag"
   ]
  },
  {
   "cell_type": "code",
   "execution_count": 7,
   "metadata": {},
   "outputs": [
    {
     "data": {
      "text/plain": [
       "3    [(tasks, NNS), (include, VBP), (presiding, VBG...\n",
       "4    [(tasks, NNS), (include, VBP), (advising, VBG)...\n",
       "5    [(tasks, NNS), (include, VBP), (allocating, VB...\n",
       "6    [(tasks, NNS), (include, VBP), (determining, V...\n",
       "8    [(tasks, NNS), (include, VBP), (planning, VBG)...\n",
       "Name: tagged, dtype: object"
      ]
     },
     "execution_count": 7,
     "metadata": {},
     "output_type": "execute_result"
    }
   ],
   "source": [
    "data['tagged'] = data['no_stopwords'].apply(nltk.pos_tag)\n",
    "data['tagged'].head()"
   ]
  },
  {
   "attachments": {},
   "cell_type": "markdown",
   "metadata": {},
   "source": [
    "POS Chunk"
   ]
  },
  {
   "cell_type": "code",
   "execution_count": 8,
   "metadata": {},
   "outputs": [],
   "source": [
    "# lemmatization\n",
    "\n",
    "lemmatizer = WordNetLemmatizer()\n",
    "\n",
    "def lemmatize_word(word, tag):\n",
    "    if tag.startswith('V'):\n",
    "        return lemmatizer.lemmatize(word, 'v')  # Verb\n",
    "    elif tag.startswith('N'):\n",
    "        return lemmatizer.lemmatize(word, 'n')  # Noun\n",
    "    else:\n",
    "        return word"
   ]
  },
  {
   "cell_type": "code",
   "execution_count": 9,
   "metadata": {},
   "outputs": [
    {
     "data": {
      "text/plain": [
       "3    [(participate, proceeding), (administrative, c...\n",
       "4    [(advise, preparation), (include, amendment), ...\n",
       "5    [(allocate, use), (settle, dispute), (discipli...\n",
       "6    [(formulate, policy), (function, organization)...\n",
       "8    [(function, enterprise), (review, operation), ...\n",
       "Name: verb_noun_pairs, dtype: object"
      ]
     },
     "execution_count": 9,
     "metadata": {},
     "output_type": "execute_result"
    }
   ],
   "source": [
    "# pos chunk\n",
    "\n",
    "def filter_verb_noun_pairs(tagged_sentence):\n",
    "    verb_noun_pairs = []\n",
    "    for i in range(len(tagged_sentence) - 1):\n",
    "        word, tag = tagged_sentence[i]\n",
    "        next_word, next_tag = tagged_sentence[i + 1]\n",
    "        if tag.startswith('VB') and next_tag.startswith('NN'):\n",
    "            verb = lemmatize_word(word, tag)\n",
    "            noun = lemmatize_word(next_word, next_tag)\n",
    "            verb_noun_pairs.append((verb, noun))\n",
    "    return verb_noun_pairs\n",
    "\n",
    "data['verb_noun_pairs'] = data['tagged'].apply(filter_verb_noun_pairs)\n",
    "data['verb_noun_pairs'].head()"
   ]
  },
  {
   "cell_type": "code",
   "execution_count": 12,
   "metadata": {},
   "outputs": [
    {
     "data": {
      "text/html": [
       "<div>\n",
       "<style scoped>\n",
       "    .dataframe tbody tr th:only-of-type {\n",
       "        vertical-align: middle;\n",
       "    }\n",
       "\n",
       "    .dataframe tbody tr th {\n",
       "        vertical-align: top;\n",
       "    }\n",
       "\n",
       "    .dataframe thead th {\n",
       "        text-align: right;\n",
       "    }\n",
       "</style>\n",
       "<table border=\"1\" class=\"dataframe\">\n",
       "  <thead>\n",
       "    <tr style=\"text-align: right;\">\n",
       "      <th></th>\n",
       "      <th>Title EN</th>\n",
       "      <th>Tasks include</th>\n",
       "      <th>verb_noun_pairs</th>\n",
       "    </tr>\n",
       "  </thead>\n",
       "  <tbody>\n",
       "    <tr>\n",
       "      <th>3</th>\n",
       "      <td>Legislators</td>\n",
       "      <td>Tasks include -\\n(a)  presiding over or partic...</td>\n",
       "      <td>[(participate, proceeding), (administrative, c...</td>\n",
       "    </tr>\n",
       "    <tr>\n",
       "      <th>4</th>\n",
       "      <td>Senior Government Officials</td>\n",
       "      <td>Tasks include -\\n(a)  advising national, state...</td>\n",
       "      <td>[(advise, preparation), (include, amendment), ...</td>\n",
       "    </tr>\n",
       "    <tr>\n",
       "      <th>5</th>\n",
       "      <td>Traditional Chiefs and Heads of Villages</td>\n",
       "      <td>Tasks include -\\n(a)  allocating the use of co...</td>\n",
       "      <td>[(allocate, use), (settle, dispute), (discipli...</td>\n",
       "    </tr>\n",
       "    <tr>\n",
       "      <th>6</th>\n",
       "      <td>Senior Officials of Special-interest Organizat...</td>\n",
       "      <td>Tasks include -\\n(a)  determining and formulat...</td>\n",
       "      <td>[(formulate, policy), (function, organization)...</td>\n",
       "    </tr>\n",
       "    <tr>\n",
       "      <th>8</th>\n",
       "      <td>Managing Directors and Chief Executives</td>\n",
       "      <td>Tasks include -\\n(a)  planning, directing and ...</td>\n",
       "      <td>[(function, enterprise), (review, operation), ...</td>\n",
       "    </tr>\n",
       "    <tr>\n",
       "      <th>...</th>\n",
       "      <td>...</td>\n",
       "      <td>...</td>\n",
       "      <td>...</td>\n",
       "    </tr>\n",
       "    <tr>\n",
       "      <th>604</th>\n",
       "      <td>Messengers, Package Deliverers and Luggage Por...</td>\n",
       "      <td>Tasks include -\\n(a)  delivering messages, pac...</td>\n",
       "      <td>[(deliver, message), (shop, household), (mark,...</td>\n",
       "    </tr>\n",
       "    <tr>\n",
       "      <th>605</th>\n",
       "      <td>Odd Job Persons</td>\n",
       "      <td>Tasks include -\\n(a)  repairing broken windows...</td>\n",
       "      <td>[(light, bulb), (wall, ceiling), (adjust, door...</td>\n",
       "    </tr>\n",
       "    <tr>\n",
       "      <th>606</th>\n",
       "      <td>Meter Readers and Vending-machine Collectors</td>\n",
       "      <td>Tasks include -\\n(a)  filling storage areas of...</td>\n",
       "      <td>[(fill, storage), (vend, machine), (collect, m...</td>\n",
       "    </tr>\n",
       "    <tr>\n",
       "      <th>607</th>\n",
       "      <td>Water and Firewood Collectors</td>\n",
       "      <td>Tasks include -\\n(a)  cutting and collecting w...</td>\n",
       "      <td>[(collect, wood), (visit, forest), (dry, wood)...</td>\n",
       "    </tr>\n",
       "    <tr>\n",
       "      <th>608</th>\n",
       "      <td>Elementary Workers Not Elsewhere Classified</td>\n",
       "      <td>In such cases tasks would include -\\n(a)  sell...</td>\n",
       "      <td>[(pass, patron), (collect, ticket), (examine, ...</td>\n",
       "    </tr>\n",
       "  </tbody>\n",
       "</table>\n",
       "<p>433 rows × 3 columns</p>\n",
       "</div>"
      ],
      "text/plain": [
       "                                              Title EN  \\\n",
       "3                                          Legislators   \n",
       "4                          Senior Government Officials   \n",
       "5             Traditional Chiefs and Heads of Villages   \n",
       "6    Senior Officials of Special-interest Organizat...   \n",
       "8              Managing Directors and Chief Executives   \n",
       "..                                                 ...   \n",
       "604  Messengers, Package Deliverers and Luggage Por...   \n",
       "605                                    Odd Job Persons   \n",
       "606       Meter Readers and Vending-machine Collectors   \n",
       "607                      Water and Firewood Collectors   \n",
       "608        Elementary Workers Not Elsewhere Classified   \n",
       "\n",
       "                                         Tasks include  \\\n",
       "3    Tasks include -\\n(a)  presiding over or partic...   \n",
       "4    Tasks include -\\n(a)  advising national, state...   \n",
       "5    Tasks include -\\n(a)  allocating the use of co...   \n",
       "6    Tasks include -\\n(a)  determining and formulat...   \n",
       "8    Tasks include -\\n(a)  planning, directing and ...   \n",
       "..                                                 ...   \n",
       "604  Tasks include -\\n(a)  delivering messages, pac...   \n",
       "605  Tasks include -\\n(a)  repairing broken windows...   \n",
       "606  Tasks include -\\n(a)  filling storage areas of...   \n",
       "607  Tasks include -\\n(a)  cutting and collecting w...   \n",
       "608  In such cases tasks would include -\\n(a)  sell...   \n",
       "\n",
       "                                       verb_noun_pairs  \n",
       "3    [(participate, proceeding), (administrative, c...  \n",
       "4    [(advise, preparation), (include, amendment), ...  \n",
       "5    [(allocate, use), (settle, dispute), (discipli...  \n",
       "6    [(formulate, policy), (function, organization)...  \n",
       "8    [(function, enterprise), (review, operation), ...  \n",
       "..                                                 ...  \n",
       "604  [(deliver, message), (shop, household), (mark,...  \n",
       "605  [(light, bulb), (wall, ceiling), (adjust, door...  \n",
       "606  [(fill, storage), (vend, machine), (collect, m...  \n",
       "607  [(collect, wood), (visit, forest), (dry, wood)...  \n",
       "608  [(pass, patron), (collect, ticket), (examine, ...  \n",
       "\n",
       "[433 rows x 3 columns]"
      ]
     },
     "execution_count": 12,
     "metadata": {},
     "output_type": "execute_result"
    }
   ],
   "source": [
    "# hasile\n",
    "\n",
    "isco_task = data[[\"Title EN\", \"Tasks include\", \"verb_noun_pairs\"]]\n",
    "isco_task.to_excel('isco_task.xlsx', index=False)\n",
    "isco_task"
   ]
  }
 ],
 "metadata": {
  "kernelspec": {
   "display_name": "Python 3",
   "language": "python",
   "name": "python3"
  },
  "language_info": {
   "codemirror_mode": {
    "name": "ipython",
    "version": 3
   },
   "file_extension": ".py",
   "mimetype": "text/x-python",
   "name": "python",
   "nbconvert_exporter": "python",
   "pygments_lexer": "ipython3",
   "version": "3.9.1"
  },
  "orig_nbformat": 4
 },
 "nbformat": 4,
 "nbformat_minor": 2
}
